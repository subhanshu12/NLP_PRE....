{
  "nbformat": 4,
  "nbformat_minor": 0,
  "metadata": {
    "colab": {
      "provenance": [],
      "toc_visible": true
    },
    "kernelspec": {
      "name": "python3",
      "display_name": "Python 3"
    },
    "language_info": {
      "name": "python"
    }
  },
  "cells": [
    {
      "cell_type": "code",
      "execution_count": null,
      "metadata": {
        "colab": {
          "base_uri": "https://localhost:8080/"
        },
        "id": "Orp1jfQElzDT",
        "outputId": "2a8ed932-714d-43ed-dffe-ef300abc385d"
      },
      "outputs": [
        {
          "output_type": "stream",
          "name": "stderr",
          "text": [
            "[nltk_data] Downloading package punkt to /root/nltk_data...\n",
            "[nltk_data]   Unzipping tokenizers/punkt.zip.\n"
          ]
        },
        {
          "output_type": "execute_result",
          "data": {
            "text/plain": [
              "True"
            ]
          },
          "metadata": {},
          "execution_count": 1
        }
      ],
      "source": [
        "import nltk\n",
        "nltk.download('punkt')"
      ]
    },
    {
      "cell_type": "code",
      "source": [
        "import nltk\n",
        "from nltk.tokenize import word_tokenize,sent_tokenize"
      ],
      "metadata": {
        "id": "sT5DfJDboNIk"
      },
      "execution_count": null,
      "outputs": []
    },
    {
      "cell_type": "code",
      "source": [
        "#preprocess data to remove newlines and special characters\n",
        "import string\n",
        "string.punctuation = string.punctuation +'“'+'”'+'-'+'’'+'‘'+'—'\n",
        "string.punctuation = string.punctuation.replace('.', '')\n",
        "file = open('rawCorpus.txt').read()\n",
        "file_new = \"\"\n",
        "for line in file:\n",
        "    line_new = line.replace(\"n\", \" \")      \n",
        "    file_new += line_new\n",
        "preprocessedCorpus = \"\".join([char for char in file_new if char not in string.punctuation])\n"
      ],
      "metadata": {
        "id": "8PkX30OOoTu9"
      },
      "execution_count": null,
      "outputs": []
    },
    {
      "cell_type": "code",
      "source": [
        "sentences = sent_tokenize(preprocessedCorpus)\n",
        "print(\"1st 5 sentences of preprocessed corpus are : \")\n",
        "print(sentences[0:5])\n",
        "words = word_tokenize(preprocessedCorpus)\n",
        "print(\"1st 5 words/tokens of preprocessed corpus are : \")\n",
        "print(words[0:5])"
      ],
      "metadata": {
        "colab": {
          "base_uri": "https://localhost:8080/"
        },
        "id": "Ec-iBnHUoVKm",
        "outputId": "02e3c1f4-3e22-4d23-9764-abfd7c058625"
      },
      "execution_count": null,
      "outputs": [
        {
          "output_type": "stream",
          "name": "stdout",
          "text": [
            "1st 5 sentences of preprocessed corpus are : \n",
            "['\\nTreats of the place where Oliver Twist was Bor  a d of the Circumsta ces atte di g his Birth.', 'Amo g other public buildi gs i  a certai  tow  which for ma y reaso s it will be prude t to refrai  from me tio i g a d to which I will assig   o fictitious  ame there is o e a cie tly commo  to most tow s great or small to wit a workhouse a d i  this workhouse was bor  o  a day a d date which I  eed  ot trouble myself to repeat i asmuch as it ca  be of  o possible co seque ce to the reader i  this stage of the busi ess at all eve ts the item of mortality whose  ame is prefixed to the head of this chapter.', 'For a lo g time after it was ushered i to this world of sorrow a d trouble by the parish surgeo  it remai ed a matter of co siderable doubt whether the child would survive to bear a y  ame at all i  which case it is somewhat more tha  probable that these memoirs would  ever have appeared or if they had that bei g comprised withi  a couple of pages they would have possessed the i estimable merit of bei g the most co cise a d faithful specime  of biography exta t i  the literature of a y age or cou try.', 'Although I am  ot disposed to mai tai  that the bei g bor  i  a workhouse is i  itself the most fortu ate a d e viable circumsta ce that ca  possibly befal a huma  bei g I do mea  to say that i  this particular i sta ce it was the best thi g for Oliver Twist that could by possibility have occurred.', 'The fact is that there was co siderable difficulty i  i duci g Oliver to take upo  himself the office of respiratio a troublesome practice but o e which custom has re dered  ecessary to our easy existe ce a d for some time he lay gaspi g o  a little flock mattress rather u equally poised betwee  this world a d the  ext the bala ce bei g decidedly i  favour of the latter.']\n",
            "1st 5 words/tokens of preprocessed corpus are : \n",
            "['Treats', 'of', 'the', 'place', 'where']\n"
          ]
        }
      ]
    },
    {
      "cell_type": "code",
      "source": [
        "nltk.download('stopwords')\n",
        "from nltk.corpus import stopwords\n",
        "stop_words = set(stopwords.words('english'))\n",
        "filtered_tokens = [w for w in words if not w.lower() in stop_words]"
      ],
      "metadata": {
        "colab": {
          "base_uri": "https://localhost:8080/"
        },
        "id": "AwKHdu0krEGn",
        "outputId": "2dab8677-24f3-4e9c-c7d8-bb1138787ba9"
      },
      "execution_count": null,
      "outputs": [
        {
          "output_type": "stream",
          "name": "stderr",
          "text": [
            "[nltk_data] Downloading package stopwords to /root/nltk_data...\n",
            "[nltk_data]   Unzipping corpora/stopwords.zip.\n"
          ]
        }
      ]
    },
    {
      "cell_type": "code",
      "source": [],
      "metadata": {
        "id": "rSn-NjlCrEzG"
      },
      "execution_count": null,
      "outputs": []
    },
    {
      "cell_type": "code",
      "source": [
        "#bigram, trigram words detector\n",
        "from collections import Counter\n",
        "from nltk.util import ngrams\n",
        "unigrams=[]\n",
        "bigrams=[]\n",
        "trigrams=[]\n",
        "for content in (sentences): \n",
        "    content = content.lower()\n",
        "    content = word_tokenize(content)\n",
        "    for word in content:\n",
        "        if (word =='.'):\n",
        "            content.remove(word) \n",
        "        else:\n",
        "            unigrams.append(word)\n",
        "    bigrams.extend(ngrams(content,2))\n",
        "    trigrams.extend(ngrams(content,3))\n",
        "print (\"Sample of n-grams:n\" + \"-------------------------\")\n",
        "print (\"--> UNIGRAMS: n\" + str(unigrams[:5]) + \" ...n\")\n",
        "print (\"--> BIGRAMS: n\" + str(bigrams[:5]) + \" ...n\")\n",
        "print (\"--> TRIGRAMS: n\" + str(trigrams[:5]) + \" ...n\")"
      ],
      "metadata": {
        "colab": {
          "base_uri": "https://localhost:8080/"
        },
        "id": "N4bd6ktrrRb8",
        "outputId": "d5fb6d05-ab4d-4eca-e956-067735237812"
      },
      "execution_count": null,
      "outputs": [
        {
          "output_type": "stream",
          "name": "stdout",
          "text": [
            "Sample of n-grams:n-------------------------\n",
            "--> UNIGRAMS: n['treats', 'of', 'the', 'place', 'where'] ...n\n",
            "--> BIGRAMS: n[('treats', 'of'), ('of', 'the'), ('the', 'place'), ('place', 'where'), ('where', 'oliver')] ...n\n",
            "--> TRIGRAMS: n[('treats', 'of', 'the'), ('of', 'the', 'place'), ('the', 'place', 'where'), ('place', 'where', 'oliver'), ('where', 'oliver', 'twist')] ...n\n"
          ]
        }
      ]
    },
    {
      "cell_type": "code",
      "source": [
        "#here we remove stopwords\n",
        "def stopwords_removal(n, a):     \n",
        "    b = []\n",
        "    if n == 1:\n",
        "        for word in a:\n",
        "            count = 0\n",
        "            if word in stop_words:\n",
        "                count = 0\n",
        "            else:\n",
        "                count = 1\n",
        "            if (count==1):\n",
        "                b.append(word)\n",
        "        return(b)\n",
        "    else:\n",
        "        for pair in a:\n",
        "            count = 0\n",
        "            for word in pair:\n",
        "                if word in stop_words:\n",
        "                    count = count or 0\n",
        "                else:\n",
        "                    count = count or 1\n",
        "            if (count==1):\n",
        "                b.append(pair)\n",
        "        return(b)\n",
        "unigrams_Processed = stopwords_removal(1,unigrams)\n",
        "bigrams_Processed = stopwords_removal(2,bigrams)\n",
        "trigrams_Processed = stopwords_removal(3,trigrams)\n",
        "print (\"Sample of n-grams after processing:n\" + \"-------------------------\")\n",
        "print (\"--> UNIGRAMS: n\" + str(unigrams_Processed[:5]) + \" ...n\")\n",
        "print (\"--> BIGRAMS: n\" + str(bigrams_Processed[:5]) + \" ...n\")\n",
        "print (\"--> TRIGRAMS: n\" + str(trigrams_Processed[:5]) + \" ...n\")"
      ],
      "metadata": {
        "colab": {
          "base_uri": "https://localhost:8080/"
        },
        "id": "aRJx06MZrSNR",
        "outputId": "ecf5c4f9-db06-4c15-b10c-81355bf9d928"
      },
      "execution_count": null,
      "outputs": [
        {
          "output_type": "stream",
          "name": "stdout",
          "text": [
            "Sample of n-grams after processing:n-------------------------\n",
            "--> UNIGRAMS: n['treats', 'place', 'oliver', 'twist', 'bor'] ...n\n",
            "--> BIGRAMS: n[('treats', 'of'), ('the', 'place'), ('place', 'where'), ('where', 'oliver'), ('oliver', 'twist')] ...n\n",
            "--> TRIGRAMS: n[('treats', 'of', 'the'), ('of', 'the', 'place'), ('the', 'place', 'where'), ('place', 'where', 'oliver'), ('where', 'oliver', 'twist')] ...n\n"
          ]
        }
      ]
    },
    {
      "cell_type": "code",
      "source": [
        "#types token ratio\n",
        "import nltk\n",
        "from nltk.tokenize import word_tokenize\n",
        "\n",
        "with open('rawCorpus.txt', 'r') as file:\n",
        "    corpus = file.read()\n",
        "\n",
        "tokens = word_tokenize(preprocessedCorpus)\n",
        "\n",
        "types = set(tokens)\n",
        "num_types = len(types)\n",
        "num_tokens = len(tokens)\n",
        "\n",
        "ttr = num_types / num_tokens\n",
        "\n",
        "print('Type Token Ratio:', ttr)"
      ],
      "metadata": {
        "colab": {
          "base_uri": "https://localhost:8080/"
        },
        "id": "U7sh8KIjsAe6",
        "outputId": "13a3843b-1c5c-4984-844d-3392e90a1e7c"
      },
      "execution_count": null,
      "outputs": [
        {
          "output_type": "stream",
          "name": "stdout",
          "text": [
            "Type Token Ratio: 0.4218181818181818\n"
          ]
        }
      ]
    },
    {
      "cell_type": "code",
      "source": [
        "#pos tagging\n",
        "import nltk\n",
        "nltk.download('averaged_perceptron_tagger')\n",
        "from nltk.tokenize import word_tokenize\n",
        "\n",
        "with open('rawCorpus.txt', 'r') as file:\n",
        "    corpus = file.read()\n",
        "\n",
        "tokens = word_tokenize(preprocessedCorpus)\n",
        "\n",
        "pos_tags = nltk.pos_tag(tokens)\n",
        "\n",
        "print(pos_tags)\n"
      ],
      "metadata": {
        "colab": {
          "base_uri": "https://localhost:8080/"
        },
        "id": "BDg9do42uB38",
        "outputId": "1928a238-f957-4aaa-8ce7-d4bce559099b"
      },
      "execution_count": null,
      "outputs": [
        {
          "output_type": "stream",
          "name": "stdout",
          "text": [
            "[('Treats', 'NNS'), ('of', 'IN'), ('the', 'DT'), ('place', 'NN'), ('where', 'WRB'), ('Oliver', 'NNP'), ('Twist', 'NNP'), ('was', 'VBD'), ('Bor', 'NNP'), ('a', 'DT'), ('d', 'NN'), ('of', 'IN'), ('the', 'DT'), ('Circumsta', 'NNP'), ('ces', 'NNS'), ('atte', 'VBP'), ('di', 'JJ'), ('g', 'NN'), ('his', 'PRP$'), ('Birth', 'NNP'), ('.', '.'), ('Amo', 'NNP'), ('g', 'VBZ'), ('other', 'JJ'), ('public', 'JJ'), ('buildi', 'NN'), ('gs', 'NN'), ('i', 'VBZ'), ('a', 'DT'), ('certai', 'NN'), ('tow', 'NN'), ('which', 'WDT'), ('for', 'IN'), ('ma', 'NN'), ('y', 'NN'), ('reaso', 'NN'), ('s', 'VBD'), ('it', 'PRP'), ('will', 'MD'), ('be', 'VB'), ('prude', 'JJ'), ('t', 'NN'), ('to', 'TO'), ('refrai', 'VB'), ('from', 'IN'), ('me', 'PRP'), ('tio', 'VBP'), ('i', 'JJ'), ('g', 'VBP'), ('a', 'DT'), ('d', 'NN'), ('to', 'TO'), ('which', 'WDT'), ('I', 'PRP'), ('will', 'MD'), ('assig', 'VB'), ('o', 'RB'), ('fictitious', 'JJ'), ('ame', 'NN'), ('there', 'EX'), ('is', 'VBZ'), ('o', 'JJ'), ('e', 'IN'), ('a', 'DT'), ('cie', 'NN'), ('tly', 'RB'), ('commo', 'VBN'), ('to', 'TO'), ('most', 'RBS'), ('tow', 'JJ'), ('s', 'JJ'), ('great', 'JJ'), ('or', 'CC'), ('small', 'JJ'), ('to', 'TO'), ('wit', 'VB'), ('a', 'DT'), ('workhouse', 'NN'), ('a', 'DT'), ('d', 'NN'), ('i', 'NN'), ('this', 'DT'), ('workhouse', 'NN'), ('was', 'VBD'), ('bor', 'VBN'), ('o', 'RP'), ('a', 'DT'), ('day', 'NN'), ('a', 'DT'), ('d', 'NN'), ('date', 'NN'), ('which', 'WDT'), ('I', 'PRP'), ('eed', 'VBP'), ('ot', 'JJ'), ('trouble', 'NN'), ('myself', 'PRP'), ('to', 'TO'), ('repeat', 'VB'), ('i', 'JJ'), ('asmuch', 'RB'), ('as', 'IN'), ('it', 'PRP'), ('ca', 'MD'), ('be', 'VB'), ('of', 'IN'), ('o', 'JJ'), ('possible', 'JJ'), ('co', 'NN'), ('seque', 'NN'), ('ce', 'NN'), ('to', 'TO'), ('the', 'DT'), ('reader', 'NN'), ('i', 'NN'), ('this', 'DT'), ('stage', 'NN'), ('of', 'IN'), ('the', 'DT'), ('busi', 'NN'), ('ess', 'NN'), ('at', 'IN'), ('all', 'DT'), ('eve', 'VBP'), ('ts', 'IN'), ('the', 'DT'), ('item', 'NN'), ('of', 'IN'), ('mortality', 'NN'), ('whose', 'WP$'), ('ame', 'NN'), ('is', 'VBZ'), ('prefixed', 'VBN'), ('to', 'TO'), ('the', 'DT'), ('head', 'NN'), ('of', 'IN'), ('this', 'DT'), ('chapter', 'NN'), ('.', '.'), ('For', 'IN'), ('a', 'DT'), ('lo', 'JJ'), ('g', 'NN'), ('time', 'NN'), ('after', 'IN'), ('it', 'PRP'), ('was', 'VBD'), ('ushered', 'JJ'), ('i', 'NN'), ('to', 'TO'), ('this', 'DT'), ('world', 'NN'), ('of', 'IN'), ('sorrow', 'NN'), ('a', 'DT'), ('d', 'NN'), ('trouble', 'NN'), ('by', 'IN'), ('the', 'DT'), ('parish', 'JJ'), ('surgeo', 'NN'), ('it', 'PRP'), ('remai', 'VBZ'), ('ed', 'VBZ'), ('a', 'DT'), ('matter', 'NN'), ('of', 'IN'), ('co', 'NN'), ('siderable', 'JJ'), ('doubt', 'NN'), ('whether', 'IN'), ('the', 'DT'), ('child', 'NN'), ('would', 'MD'), ('survive', 'VB'), ('to', 'TO'), ('bear', 'VB'), ('a', 'DT'), ('y', 'NN'), ('ame', 'NN'), ('at', 'IN'), ('all', 'DT'), ('i', 'NN'), ('which', 'WDT'), ('case', 'NN'), ('it', 'PRP'), ('is', 'VBZ'), ('somewhat', 'RB'), ('more', 'JJR'), ('tha', 'JJ'), ('probable', 'JJ'), ('that', 'IN'), ('these', 'DT'), ('memoirs', 'NNS'), ('would', 'MD'), ('ever', 'RB'), ('have', 'VB'), ('appeared', 'VBN'), ('or', 'CC'), ('if', 'IN'), ('they', 'PRP'), ('had', 'VBD'), ('that', 'IN'), ('bei', 'NN'), ('g', 'NN'), ('comprised', 'VBD'), ('withi', 'WRB'), ('a', 'DT'), ('couple', 'NN'), ('of', 'IN'), ('pages', 'NNS'), ('they', 'PRP'), ('would', 'MD'), ('have', 'VB'), ('possessed', 'VBN'), ('the', 'DT'), ('i', 'NN'), ('estimable', 'JJ'), ('merit', 'NN'), ('of', 'IN'), ('bei', 'NN'), ('g', 'VBP'), ('the', 'DT'), ('most', 'RBS'), ('co', 'JJ'), ('cise', 'NN'), ('a', 'DT'), ('d', 'NN'), ('faithful', 'JJ'), ('specime', 'NN'), ('of', 'IN'), ('biography', 'NN'), ('exta', 'NN'), ('t', 'NN'), ('i', 'VBP'), ('the', 'DT'), ('literature', 'NN'), ('of', 'IN'), ('a', 'DT'), ('y', 'JJ'), ('age', 'NN'), ('or', 'CC'), ('cou', 'NN'), ('try', 'NN'), ('.', '.'), ('Although', 'IN'), ('I', 'PRP'), ('am', 'VBP'), ('ot', 'RB'), ('disposed', 'VBN'), ('to', 'TO'), ('mai', 'VB'), ('tai', 'NN'), ('that', 'IN'), ('the', 'DT'), ('bei', 'NN'), ('g', 'NN'), ('bor', 'NN'), ('i', 'VBP'), ('a', 'DT'), ('workhouse', 'NN'), ('is', 'VBZ'), ('i', 'JJ'), ('itself', 'PRP'), ('the', 'DT'), ('most', 'RBS'), ('fortu', 'JJ'), ('ate', 'VB'), ('a', 'DT'), ('d', 'NN'), ('e', 'NN'), ('viable', 'JJ'), ('circumsta', 'NN'), ('ce', 'NN'), ('that', 'WDT'), ('ca', 'MD'), ('possibly', 'RB'), ('befal', 'VB'), ('a', 'DT'), ('huma', 'NN'), ('bei', 'NN'), ('g', 'NN'), ('I', 'PRP'), ('do', 'VBP'), ('mea', 'NNS'), ('to', 'TO'), ('say', 'VB'), ('that', 'IN'), ('i', 'NN'), ('this', 'DT'), ('particular', 'JJ'), ('i', 'NN'), ('sta', 'VBP'), ('ce', 'NN'), ('it', 'PRP'), ('was', 'VBD'), ('the', 'DT'), ('best', 'JJS'), ('thi', 'NN'), ('g', 'NN'), ('for', 'IN'), ('Oliver', 'NNP'), ('Twist', 'NNP'), ('that', 'WDT'), ('could', 'MD'), ('by', 'IN'), ('possibility', 'NN'), ('have', 'VBP'), ('occurred', 'VBN'), ('.', '.'), ('The', 'DT'), ('fact', 'NN'), ('is', 'VBZ'), ('that', 'IN'), ('there', 'EX'), ('was', 'VBD'), ('co', 'NN'), ('siderable', 'JJ'), ('difficulty', 'NN'), ('i', 'NN'), ('i', 'VBP'), ('duci', 'VBP'), ('g', 'NN'), ('Oliver', 'NNP'), ('to', 'TO'), ('take', 'VB'), ('upo', 'NN'), ('himself', 'PRP'), ('the', 'DT'), ('office', 'NN'), ('of', 'IN'), ('respiratio', 'NN'), ('a', 'DT'), ('troublesome', 'JJ'), ('practice', 'NN'), ('but', 'CC'), ('o', 'NN'), ('e', 'NN'), ('which', 'WDT'), ('custom', 'NN'), ('has', 'VBZ'), ('re', 'VBN'), ('dered', 'VBN'), ('ecessary', 'JJ'), ('to', 'TO'), ('our', 'PRP$'), ('easy', 'JJ'), ('existe', 'NN'), ('ce', 'VBD'), ('a', 'DT'), ('d', 'NN'), ('for', 'IN'), ('some', 'DT'), ('time', 'NN'), ('he', 'PRP'), ('lay', 'VBD'), ('gaspi', 'JJ'), ('g', 'NN'), ('o', 'VBD'), ('a', 'DT'), ('little', 'JJ'), ('flock', 'NN'), ('mattress', 'NN'), ('rather', 'RB'), ('u', 'JJ'), ('equally', 'RB'), ('poised', 'VBN'), ('betwee', 'NN'), ('this', 'DT'), ('world', 'NN'), ('a', 'DT'), ('d', 'NN'), ('the', 'DT'), ('ext', 'NN'), ('the', 'DT'), ('bala', 'NN'), ('ce', 'NN'), ('bei', 'NN'), ('g', 'NN'), ('decidedly', 'RB'), ('i', 'JJ'), ('favour', 'NN'), ('of', 'IN'), ('the', 'DT'), ('latter', 'JJ'), ('.', '.'), ('Now', 'RB'), ('if', 'IN'), ('duri', 'VBN'), ('g', 'NN'), ('this', 'DT'), ('brief', 'JJ'), ('period', 'NN'), ('Oliver', 'NNP'), ('had', 'VBD'), ('bee', 'VBN'), ('surrou', 'RB'), ('ded', 'VBN'), ('by', 'IN'), ('careful', 'JJ'), ('gra', 'NN'), ('dmothers', 'NNS'), ('a', 'DT'), ('xious', 'JJ'), ('au', 'NN'), ('ts', 'NN'), ('experie', 'NN'), ('ced', 'VBD'), ('urses', 'VBZ'), ('a', 'DT'), ('d', 'JJ'), ('doctors', 'NNS'), ('of', 'IN'), ('profou', 'JJ'), ('d', 'NN'), ('wisdom', 'NN'), ('he', 'PRP'), ('would', 'MD'), ('most', 'VB'), ('i', 'JJ'), ('evitably', 'RB'), ('a', 'DT'), ('d', 'NN'), ('i', 'NN'), ('dubitably', 'RB'), ('have', 'VBP'), ('bee', 'VBN'), ('killed', 'VBN'), ('i', 'JJ'), ('o', 'JJ'), ('time', 'NN'), ('.', '.'), ('There', 'EX'), ('bei', 'JJ'), ('g', 'NN'), ('obody', 'NN'), ('by', 'IN'), ('however', 'RB'), ('but', 'CC'), ('a', 'DT'), ('pauper', 'JJ'), ('old', 'JJ'), ('woma', 'NN'), ('who', 'WP'), ('was', 'VBD'), ('re', 'RB'), ('dered', 'VBN'), ('rather', 'RB'), ('misty', 'JJ'), ('by', 'IN'), ('a', 'DT'), ('u', 'JJ'), ('wo', 'MD'), ('ted', 'VBN'), ('allowa', 'JJ'), ('ce', 'NN'), ('of', 'IN'), ('beer', 'NN'), ('a', 'DT'), ('d', 'NN'), ('a', 'DT'), ('parish', 'JJ'), ('surgeo', 'NN'), ('who', 'WP'), ('did', 'VBD'), ('such', 'JJ'), ('matters', 'NNS'), ('by', 'IN'), ('co', 'NN'), ('tract', 'NN'), ('Oliver', 'IN'), ('a', 'DT'), ('d', 'JJ'), ('Nature', 'NNP'), ('fought', 'VBD'), ('out', 'RP'), ('the', 'DT'), ('poi', 'NN'), ('t', 'NN'), ('betwee', 'VBD'), ('them', 'PRP'), ('.', '.'), ('The', 'DT'), ('result', 'NN'), ('was', 'VBD'), ('that', 'IN'), ('after', 'IN'), ('a', 'DT'), ('few', 'JJ'), ('struggles', 'NNS'), ('Oliver', 'RB'), ('breathed', 'VBD'), ('s', 'PRP'), ('eezed', 'VBD'), ('a', 'DT'), ('d', 'NN'), ('proceeded', 'VBN'), ('to', 'TO'), ('advertise', 'VB'), ('to', 'TO'), ('the', 'DT'), ('i', 'NN'), ('mates', 'NNS'), ('of', 'IN'), ('the', 'DT'), ('workhouse', 'NN'), ('the', 'DT'), ('fact', 'NN'), ('of', 'IN'), ('a', 'DT'), ('ew', 'JJ'), ('burde', 'NN'), ('havi', 'NN'), ('g', 'NN'), ('bee', 'NN'), ('imposed', 'VBN'), ('upo', 'IN'), ('the', 'DT'), ('parish', 'JJ'), ('by', 'IN'), ('setti', 'NNS'), ('g', 'VBP'), ('up', 'RP'), ('as', 'RB'), ('loud', 'IN'), ('a', 'DT'), ('cry', 'NN'), ('as', 'IN'), ('could', 'MD'), ('reaso', 'VB'), ('ably', 'RB'), ('have', 'VBP'), ('bee', 'VBN'), ('expected', 'VBN'), ('from', 'IN'), ('a', 'DT'), ('male', 'NN'), ('i', 'NN'), ('fa', 'VBP'), ('t', 'NN'), ('who', 'WP'), ('had', 'VBD'), ('ot', 'VBN'), ('bee', 'NNS'), ('possessed', 'VBD'), ('of', 'IN'), ('that', 'DT'), ('very', 'RB'), ('useful', 'JJ'), ('appe', 'NN'), ('dage', 'NN'), ('a', 'DT'), ('voice', 'NN'), ('for', 'IN'), ('a', 'DT'), ('much', 'JJ'), ('lo', 'NN'), ('ger', 'NN'), ('space', 'NN'), ('of', 'IN'), ('time', 'NN'), ('tha', 'NN'), ('three', 'CD'), ('mi', 'NN'), ('utes', 'VBZ'), ('a', 'DT'), ('d', 'NN'), ('a', 'DT'), ('quarter', 'NN'), ('.', '.'), ('As', 'IN'), ('Oliver', 'NNP'), ('gave', 'VBD'), ('this', 'DT'), ('first', 'JJ'), ('proof', 'NN'), ('of', 'IN'), ('the', 'DT'), ('free', 'JJ'), ('a', 'DT'), ('d', 'JJ'), ('proper', 'JJ'), ('actio', 'NN'), ('of', 'IN'), ('his', 'PRP$'), ('lu', 'NN'), ('gs', 'VBD'), ('the', 'DT'), ('patchwork', 'NN'), ('coverlet', 'NN'), ('which', 'WDT'), ('was', 'VBD'), ('carelessly', 'RB'), ('flu', 'JJ'), ('g', 'NN'), ('over', 'IN'), ('the', 'DT'), ('iro', 'JJ'), ('bedstead', 'NN'), ('rustled', 'VBD'), ('the', 'DT'), ('pale', 'JJ'), ('face', 'NN'), ('of', 'IN'), ('a', 'DT'), ('you', 'PRP'), ('g', 'VBP'), ('woma', 'NN'), ('was', 'VBD'), ('raised', 'VBN'), ('feebly', 'RB'), ('from', 'IN'), ('the', 'DT'), ('pillow', 'NN'), ('a', 'DT'), ('d', 'NN'), ('a', 'DT'), ('fai', 'JJ'), ('t', 'NN'), ('voice', 'NN'), ('imperfectly', 'RB'), ('articulated', 'VBD'), ('the', 'DT'), ('words', 'NNS'), ('Let', 'VB'), ('me', 'PRP'), ('see', 'VB'), ('the', 'DT'), ('child', 'NN'), ('a', 'DT'), ('d', 'NN'), ('die', 'NN'), ('.', '.'), ('The', 'DT'), ('surgeo', 'NN'), ('had', 'VBD'), ('bee', 'VBN'), ('sitti', 'NNS'), ('g', 'NN'), ('with', 'IN'), ('his', 'PRP$'), ('face', 'NN'), ('tur', 'NN'), ('ed', 'NN'), ('towards', 'IN'), ('the', 'DT'), ('fire', 'NN'), ('givi', 'NN'), ('g', 'VBD'), ('the', 'DT'), ('palms', 'NN'), ('of', 'IN'), ('his', 'PRP$'), ('ha', 'NN'), ('ds', 'VBZ'), ('a', 'DT'), ('warm', 'NN'), ('a', 'DT'), ('d', 'NN'), ('a', 'DT'), ('rub', 'NN'), ('alter', 'NN'), ('ately', 'RB'), ('.', '.'), ('As', 'IN'), ('the', 'DT'), ('you', 'PRP'), ('g', 'VBP'), ('woma', 'JJ'), ('spoke', 'NN'), ('he', 'PRP'), ('rose', 'VBD'), ('a', 'DT'), ('d', 'JJ'), ('adva', 'NN'), ('ci', 'NN'), ('g', 'NN'), ('to', 'TO'), ('the', 'DT'), ('beds', 'NNS'), ('head', 'NN'), ('said', 'VBD'), ('with', 'IN'), ('more', 'RBR'), ('ki', 'JJ'), ('d', 'NN'), ('ess', 'NN'), ('tha', 'NN'), ('might', 'MD'), ('have', 'VB'), ('bee', 'VBN'), ('expected', 'VBN'), ('of', 'IN'), ('him', 'PRP'), ('Oh', 'NNP'), ('you', 'PRP'), ('must', 'MD'), ('ot', 'VB'), ('talk', 'NN'), ('about', 'IN'), ('dyi', 'NN'), ('g', 'NN'), ('yet', 'RB'), ('.', '.'), ('Lor', 'NNP'), ('bless', 'IN'), ('her', 'PRP$'), ('dear', 'JJ'), ('heart', 'NN'), ('o', 'NN'), ('i', 'NN'), ('terposed', 'VBD'), ('the', 'DT'), ('urse', 'JJ'), ('hastily', 'RB'), ('depositi', 'VBP'), ('g', 'NN'), ('i', 'NN'), ('her', 'PRP$'), ('pocket', 'NN'), ('a', 'DT'), ('gree', 'JJ'), ('glass', 'NN'), ('bottle', 'IN'), ('the', 'DT'), ('co', 'NN'), ('te', 'NN'), ('ts', 'NN'), ('of', 'IN'), ('which', 'WDT'), ('she', 'PRP'), ('had', 'VBD'), ('bee', 'VBN'), ('tasti', 'JJ'), ('g', 'NN'), ('i', 'VBZ'), ('a', 'DT'), ('cor', 'NN'), ('er', 'NN'), ('with', 'IN'), ('evide', 'JJ'), ('t', 'NN'), ('satisfactio', 'NN'), ('.', '.'), ('Lor', 'NNP'), ('bless', 'IN'), ('her', 'PRP$'), ('dear', 'JJ'), ('heart', 'NN'), ('whe', 'NN'), ('she', 'PRP'), ('has', 'VBZ'), ('lived', 'VBN'), ('as', 'IN'), ('lo', 'JJ'), ('g', 'NN'), ('as', 'IN'), ('I', 'PRP'), ('have', 'VBP'), ('sir', 'VBN'), ('a', 'DT'), ('d', 'NN'), ('had', 'VBD'), ('thirtee', 'NN'), ('childre', 'NN'), ('of', 'IN'), ('her', 'PRP$'), ('ow', 'NN'), ('a', 'DT'), ('d', 'NN'), ('all', 'DT'), ('o', 'JJ'), ('em', 'NNS'), ('dead', 'JJ'), ('except', 'IN'), ('two', 'CD'), ('a', 'DT'), ('d', 'NN'), ('them', 'PRP'), ('i', 'VBP'), ('the', 'DT'), ('wurkus', 'NN'), ('with', 'IN'), ('me', 'PRP'), ('shell', 'VBP'), ('k', 'JJ'), ('ow', 'IN'), ('better', 'JJR'), ('tha', 'NN'), ('to', 'TO'), ('take', 'VB'), ('o', 'NN'), ('i', 'NNS'), ('that', 'WDT'), ('way', 'NN'), ('bless', 'IN'), ('her', 'PRP$'), ('dear', 'JJ'), ('heart', 'NN'), ('Thi', 'NNP'), ('k', 'VBZ'), ('what', 'WP'), ('it', 'PRP'), ('is', 'VBZ'), ('to', 'TO'), ('be', 'VB'), ('a', 'DT'), ('mother', 'NN'), ('theres', 'VBZ'), ('a', 'DT'), ('dear', 'NN'), ('you', 'PRP'), ('g', 'VBP'), ('lamb', 'JJ'), ('do', 'VBP'), ('.', '.'), ('Appare', 'VB'), ('tly', 'RB'), ('this', 'DT'), ('co', 'NN'), ('solatory', 'JJ'), ('perspective', 'NN'), ('of', 'IN'), ('a', 'DT'), ('mothers', 'NNS'), ('prospects', 'NNS'), ('failed', 'VBD'), ('i', 'JJ'), ('produci', 'NN'), ('g', 'NN'), ('its', 'PRP$'), ('due', 'JJ'), ('effect', 'NN'), ('.', '.'), ('The', 'DT'), ('patie', 'JJ'), ('t', 'NN'), ('shook', 'VBD'), ('her', 'PRP$'), ('head', 'NN'), ('a', 'DT'), ('d', 'NN'), ('stretched', 'VBD'), ('out', 'RP'), ('her', 'PRP$'), ('ha', 'NN'), ('d', 'NN'), ('towards', 'IN'), ('the', 'DT'), ('child', 'NN'), ('.', '.'), ('The', 'DT'), ('surgeo', 'NN'), ('deposited', 'VBD'), ('it', 'PRP'), ('i', 'VBZ'), ('her', 'PRP$'), ('arms', 'NNS'), ('.', '.'), ('She', 'PRP'), ('impri', 'RB'), ('ted', 'VBD'), ('her', 'PRP'), ('cold', 'JJ'), ('white', 'JJ'), ('lips', 'NNS'), ('passio', 'VBP'), ('ately', 'RB'), ('o', 'VBP'), ('its', 'PRP$'), ('forehead', 'NN'), ('passed', 'VBD'), ('her', 'PRP$'), ('ha', 'JJ'), ('ds', 'NN'), ('over', 'IN'), ('her', 'PRP$'), ('face', 'NN'), ('gazed', 'VBN'), ('wildly', 'RB'), ('rou', 'JJ'), ('d', 'NN'), ('shuddered', 'VBD'), ('fell', 'VBD'), ('backa', 'RB'), ('d', 'RB'), ('died', 'VBN'), ('.', '.'), ('They', 'PRP'), ('chafed', 'VBD'), ('her', 'PRP'), ('breast', 'NN'), ('ha', 'JJ'), ('ds', 'VBZ'), ('a', 'DT'), ('d', 'JJ'), ('temples', 'NNS'), ('but', 'CC'), ('the', 'DT'), ('blood', 'NN'), ('had', 'VBD'), ('stopped', 'VBN'), ('for', 'IN'), ('ever', 'RB'), ('.', '.'), ('They', 'PRP'), ('talked', 'VBD'), ('of', 'IN'), ('hope', 'NN'), ('a', 'DT'), ('d', 'NN'), ('comfort', 'NN'), ('.', '.'), ('They', 'PRP'), ('had', 'VBD'), ('bee', 'VBN'), ('stra', 'JJ'), ('gers', 'NNS'), ('too', 'RB'), ('lo', 'JJ'), ('g.', 'VB'), ('Its', 'PRP$'), ('all', 'DT'), ('over', 'IN'), ('Mrs.', 'NNP'), ('Thi', 'NNP'), ('gummy', 'NN'), ('said', 'VBD'), ('the', 'DT'), ('surgeo', 'NN'), ('at', 'IN'), ('last', 'JJ'), ('.', '.'), ('Ah', 'NNP'), ('poor', 'JJ'), ('dear', 'VBP'), ('so', 'IN'), ('it', 'PRP'), ('is', 'VBZ'), ('said', 'VBD'), ('the', 'DT'), ('urse', 'JJ'), ('picki', 'NN'), ('g', 'VBD'), ('up', 'RP'), ('the', 'DT'), ('cork', 'NN'), ('of', 'IN'), ('the', 'DT'), ('gree', 'NN'), ('bottle', 'NN'), ('which', 'WDT'), ('had', 'VBD'), ('falle', 'VBN'), ('out', 'RP'), ('o', 'IN'), ('the', 'DT'), ('pillow', 'NN'), ('as', 'IN'), ('she', 'PRP'), ('stooped', 'VBD'), ('to', 'TO'), ('take', 'VB'), ('up', 'RP'), ('the', 'DT'), ('child', 'NN'), ('.', '.'), ('Poor', 'NNP'), ('dear', 'IN'), ('You', 'PRP'), ('eed', 'VBP'), ('t', 'JJ'), ('mi', 'NN'), ('d', 'NN'), ('se', 'NN'), ('di', 'NN'), ('g', 'VBD'), ('up', 'RB'), ('to', 'TO'), ('me', 'PRP'), ('if', 'IN'), ('the', 'DT'), ('child', 'NN'), ('cries', 'NNS'), ('urse', 'WDT'), ('said', 'VBD'), ('the', 'DT'), ('surgeo', 'NN'), ('putti', 'NN'), ('g', 'NN'), ('o', 'IN'), ('his', 'PRP$'), ('gloves', 'NNS'), ('with', 'IN'), ('great', 'JJ'), ('deliberatio', 'NN'), ('.', '.'), ('Its', 'PRP$'), ('very', 'RB'), ('likely', 'JJ'), ('it', 'PRP'), ('will', 'MD'), ('be', 'VB'), ('troublesome', 'JJ'), ('.', '.'), ('Give', 'VB'), ('it', 'PRP'), ('a', 'DT'), ('little', 'JJ'), ('gruel7', 'NN'), ('if', 'IN'), ('it', 'PRP'), ('is', 'VBZ'), ('.', '.'), ('He', 'PRP'), ('put', 'VBD'), ('o', 'RP'), ('his', 'PRP$'), ('hat', 'NN'), ('a', 'DT'), ('d', 'NN'), ('pausi', 'NN'), ('g', 'NN'), ('by', 'IN'), ('the', 'DT'), ('bedside', 'NN'), ('o', 'IN'), ('his', 'PRP$'), ('way', 'NN'), ('to', 'TO'), ('the', 'DT'), ('door', 'NN'), ('added', 'VBD'), ('She', 'PRP'), ('was', 'VBD'), ('a', 'DT'), ('goodlooki', 'JJ'), ('g', 'NN'), ('girl', 'NN'), ('too', 'RB'), ('where', 'WRB'), ('did', 'VBD'), ('she', 'PRP'), ('come', 'VB'), ('from', 'IN'), ('She', 'PRP'), ('was', 'VBD'), ('brought', 'VBN'), ('here', 'RB'), ('last', 'JJ'), ('ight', 'JJ'), ('replied', 'VBD'), ('the', 'DT'), ('old', 'JJ'), ('woma', 'NN'), ('by', 'IN'), ('the', 'DT'), ('overseers', 'NNS'), ('order', 'NN'), ('.', '.'), ('She', 'PRP'), ('was', 'VBD'), ('fou', 'JJ'), ('d', 'NN'), ('lyi', 'NN'), ('g', 'NN'), ('i', 'VBP'), ('the', 'DT'), ('street', 'NN'), ('.', '.'), ('She', 'PRP'), ('had', 'VBD'), ('walked', 'VBN'), ('some', 'DT'), ('dista', 'NN'), ('ce', 'NN'), ('for', 'IN'), ('her', 'PRP$'), ('shoes', 'NNS'), ('were', 'VBD'), ('wor', 'JJ'), ('to', 'TO'), ('pieces', 'NNS'), ('but', 'CC'), ('where', 'WRB'), ('she', 'PRP'), ('came', 'VBD'), ('from', 'IN'), ('or', 'CC'), ('where', 'WRB'), ('she', 'PRP'), ('was', 'VBD'), ('goi', 'JJ'), ('g', 'NN'), ('to', 'TO'), ('obody', 'VB'), ('k', 'JJ'), ('ows', 'NNS'), ('.', '.')]\n"
          ]
        },
        {
          "output_type": "stream",
          "name": "stderr",
          "text": [
            "[nltk_data] Downloading package averaged_perceptron_tagger to\n",
            "[nltk_data]     /root/nltk_data...\n",
            "[nltk_data]   Package averaged_perceptron_tagger is already up-to-\n",
            "[nltk_data]       date!\n"
          ]
        }
      ]
    }
  ]
}